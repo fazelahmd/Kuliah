{
 "cells": [
  {
   "cell_type": "code",
   "execution_count": 1,
   "id": "21d552e6-a9f1-4123-a62b-6a2213562c50",
   "metadata": {},
   "outputs": [],
   "source": [
    "true_positive = 60\n",
    "true_negative = 20\n",
    "\n",
    "false_positive = 12\n",
    "false_negative = 8\n",
    "\n",
    "total_data = 100"
   ]
  },
  {
   "cell_type": "code",
   "execution_count": 2,
   "id": "a9c7cb28-034c-4bdc-b698-e50eef47f4b5",
   "metadata": {},
   "outputs": [
    {
     "name": "stdout",
     "output_type": "stream",
     "text": [
      "Akurasi mesin: 80.00%\n"
     ]
    }
   ],
   "source": [
    "accuracy = (true_positive + true_negative) / total_data\n",
    "\n",
    "print(f\"Akurasi mesin: {accuracy * 100:.2f}%\")\n"
   ]
  },
  {
   "cell_type": "code",
   "execution_count": null,
   "id": "19e71401-2c6c-44bf-a19e-f87a1f3fb3bc",
   "metadata": {},
   "outputs": [],
   "source": []
  }
 ],
 "metadata": {
  "kernelspec": {
   "display_name": "Python 3 (ipykernel)",
   "language": "python",
   "name": "python3"
  },
  "language_info": {
   "codemirror_mode": {
    "name": "ipython",
    "version": 3
   },
   "file_extension": ".py",
   "mimetype": "text/x-python",
   "name": "python",
   "nbconvert_exporter": "python",
   "pygments_lexer": "ipython3",
   "version": "3.12.6"
  }
 },
 "nbformat": 4,
 "nbformat_minor": 5
}
